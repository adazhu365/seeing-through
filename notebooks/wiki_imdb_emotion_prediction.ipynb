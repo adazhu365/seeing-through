{
 "cells": [
  {
   "cell_type": "markdown",
   "metadata": {},
   "source": [
    "# Predict and Save Emotion Labels for imdb-wiki"
   ]
  },
  {
   "cell_type": "code",
   "execution_count": null,
   "metadata": {
    "Collapsed": "false"
   },
   "outputs": [],
   "source": [
    "def preprocess_input(x, v2=True):\n",
    "    x = x.astype('float32')\n",
    "    x = x / 255.0\n",
    "    if v2:\n",
    "        x = x - 0.5\n",
    "        x = x * 4.0 #was 2.0\n",
    "    return x"
   ]
  },
  {
   "cell_type": "code",
   "execution_count": null,
   "metadata": {
    "Collapsed": "false"
   },
   "outputs": [],
   "source": [
    "import cv2\n",
    "from tensorflow.keras.models import load_model"
   ]
  },
  {
   "cell_type": "code",
   "execution_count": null,
   "metadata": {
    "Collapsed": "false"
   },
   "outputs": [],
   "source": [
    "data_dir = 'data/' #dir\n",
    "dataset = pd.read_csv(data_dir+'meta.csv')\n",
    "image_names = dataset['path']\n",
    "image_paths = dataset['path'].apply(lambda x: data_dir+x)\n",
    "image_paths[0]"
   ]
  },
  {
   "cell_type": "code",
   "execution_count": null,
   "metadata": {},
   "outputs": [],
   "source": [
    "# Test Image\n",
    "img = cv2.imread(image_paths[3])\n",
    "plt.imshow(img, cmap = plt.get_cmap('gray'))"
   ]
  },
  {
   "cell_type": "code",
   "execution_count": null,
   "metadata": {
    "Collapsed": "false"
   },
   "outputs": [],
   "source": [
    "# Model Paths\n",
    "fer = '../models/weights/emotion/emotion_big_XCEPTION.28-0.64.hdf5' #dir\n",
    "fer_plus = '../models/weights/emotion/plus_emotion_mini_XCEPTION.49-0.78.hdf5' #dir\n",
    "\n",
    "# Pick Model to Load\n",
    "emotion_classifier = load_model(fer_plus,compile=False)"
   ]
  },
  {
   "cell_type": "code",
   "execution_count": null,
   "metadata": {
    "Collapsed": "false"
   },
   "outputs": [],
   "source": [
    "imdb_wiki_preds = []\n",
    "emotion_target_size = emotion_classifier.input_shape[1:3]\n",
    "count = 1\n",
    "count5k = 0\n",
    "for path in image_paths:\n",
    "    bgr_image = cv2.imread(path)\n",
    "    gray_image = cv2.cvtColor(bgr_image, cv2.COLOR_BGR2GRAY)\n",
    "    gray_face = cv2.resize(gray_image, (emotion_target_size))\n",
    "    gray_face = preprocess_input(gray_face, True)\n",
    "    gray_face = np.expand_dims(gray_face, 0)\n",
    "    gray_face = np.expand_dims(gray_face, -1)\n",
    "    emotion_label_arg = np.argmax(emotion_classifier.predict(gray_face))\n",
    "    imdb_wiki_preds.append(emotion_label_arg)\n",
    "    if count%5000 == 0:\n",
    "        count1k+=1\n",
    "        print('Predicted {} Emotions'.format(count5k*5000))\n",
    "    count+=1\n",
    "\n",
    "dataset['plus_emotion'] = imdb_wiki_preds\n",
    "dataset.to_csv('../data/meta_with_emotion.csv')\n",
    "print('Labels saved to CSV.')"
   ]
  },
  {
   "cell_type": "code",
   "execution_count": null,
   "metadata": {
    "Collapsed": "false"
   },
   "outputs": [],
   "source": []
  }
 ],
 "metadata": {
  "kernelspec": {
   "display_name": "Python 3",
   "language": "python",
   "name": "python3"
  },
  "language_info": {
   "codemirror_mode": {
    "name": "ipython",
    "version": 3
   },
   "file_extension": ".py",
   "mimetype": "text/x-python",
   "name": "python",
   "nbconvert_exporter": "python",
   "pygments_lexer": "ipython3",
   "version": "3.7.6"
  }
 },
 "nbformat": 4,
 "nbformat_minor": 4
}
